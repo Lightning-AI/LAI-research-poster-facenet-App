{
 "cells": [
  {
   "cell_type": "code",
   "execution_count": 2,
   "id": "b323f9ed-66fb-434e-ba70-922379066e9e",
   "metadata": {},
   "outputs": [
    {
     "name": "stdout",
     "output_type": "stream",
     "text": [
      "\u001b[33mWARNING: You are using pip version 22.0.4; however, version 22.1.1 is available.\n",
      "You should consider upgrading via the '/Users/aniket/miniconda3/envs/am/bin/python -m pip install --upgrade pip' command.\u001b[0m\u001b[33m\n",
      "\u001b[0m"
     ]
    }
   ],
   "source": [
    "!pip install facenet-pytorch -q"
   ]
  },
  {
   "cell_type": "code",
   "execution_count": 3,
   "id": "b1cb7d71-5da4-40c3-a107-324d9dc43bd3",
   "metadata": {},
   "outputs": [
    {
     "name": "stderr",
     "output_type": "stream",
     "text": [
      "/Users/aniket/miniconda3/envs/am/lib/python3.9/site-packages/torchvision/io/image.py:11: UserWarning: Failed to load image Python extension: dlopen(/Users/aniket/miniconda3/envs/am/lib/python3.9/site-packages/torchvision/image.so, 0x0006): Library not loaded: @rpath/libpng16.16.dylib\n",
      "  Referenced from: /Users/aniket/miniconda3/envs/am/lib/python3.9/site-packages/torchvision/image.so\n",
      "  Reason: tried: '/Users/malfet/miniforge3/envs/py_39_torch-1.10.2/lib/libpng16.16.dylib' (no such file), '/Users/malfet/miniforge3/envs/py_39_torch-1.10.2/lib/libpng16.16.dylib' (no such file), '/Users/malfet/miniforge3/envs/py_39_torch-1.10.2/lib/libpng16.16.dylib' (no such file), '/Users/malfet/miniforge3/envs/py_39_torch-1.10.2/lib/libpng16.16.dylib' (no such file), '/Users/aniket/miniconda3/envs/am/lib/libpng16.16.dylib' (no such file), '/Users/aniket/miniconda3/envs/am/lib/libpng16.16.dylib' (no such file), '/Users/aniket/miniconda3/envs/am/lib/python3.9/lib-dynload/../../libpng16.16.dylib' (no such file), '/Users/aniket/miniconda3/envs/am/lib/libpng16.16.dylib' (no such file), '/Users/aniket/miniconda3/envs/am/bin/../lib/libpng16.16.dylib' (no such file), '/usr/local/lib/libpng16.16.dylib' (no such file), '/usr/lib/libpng16.16.dylib' (no such file)\n",
      "  warn(f\"Failed to load image Python extension: {e}\")\n"
     ]
    }
   ],
   "source": [
    "from facenet_pytorch import MTCNN, InceptionResnetV1"
   ]
  },
  {
   "cell_type": "code",
   "execution_count": 4,
   "id": "b1ac6d12-01a0-4426-9e92-07660f70ccca",
   "metadata": {},
   "outputs": [
    {
     "data": {
      "application/vnd.jupyter.widget-view+json": {
       "model_id": "6ee2c009f7bb421daf823b1118c0f741",
       "version_major": 2,
       "version_minor": 0
      },
      "text/plain": [
       "  0%|          | 0.00/107M [00:00<?, ?B/s]"
      ]
     },
     "metadata": {},
     "output_type": "display_data"
    }
   ],
   "source": [
    "# If required, create a face detection pipeline using MTCNN:\n",
    "mtcnn = MTCNN(image_size=160)\n",
    "\n",
    "# Create an inception resnet (in eval mode):\n",
    "resnet = InceptionResnetV1(pretrained='vggface2').eval()"
   ]
  },
  {
   "cell_type": "code",
   "execution_count": 9,
   "id": "65411244-32fe-4ae0-9c32-f934b637a49e",
   "metadata": {},
   "outputs": [],
   "source": [
    "from PIL import Image\n",
    "from glob import glob\n",
    "from os.path import basename"
   ]
  },
  {
   "cell_type": "code",
   "execution_count": 17,
   "id": "97857690-b6b4-4829-b708-e483745c0542",
   "metadata": {},
   "outputs": [],
   "source": [
    "files = glob(\"./peter/cropped/*.jpg\")\n",
    "\n",
    "peter_embeddings = {}\n",
    "for path in files:\n",
    "    name = basename(path).split(\"-\")[0]\n",
    "    \n",
    "    img = Image.open(path)\n",
    "\n",
    "    # Get cropped and prewhitened image tensor\n",
    "    img_cropped = mtcnn(img)\n",
    "\n",
    "    # Calculate embedding (unsqueeze to add batch dimension)\n",
    "    img_embedding = resnet(img_cropped.unsqueeze(0))\n",
    "    \n",
    "    peter_embeddings[name] = img_embedding"
   ]
  },
  {
   "cell_type": "code",
   "execution_count": 24,
   "id": "e95fcef2-f470-49ea-b6f6-411da777673a",
   "metadata": {},
   "outputs": [],
   "source": [
    "x1 = peter_embeddings[\"tom\"]\n",
    "x2 = peter_embeddings[\"tobey\"]"
   ]
  },
  {
   "cell_type": "code",
   "execution_count": 22,
   "id": "1c638551-9345-49bd-8746-480e66c0193c",
   "metadata": {},
   "outputs": [],
   "source": [
    "x = Image.open(\"peter/example.jpg\")\n",
    "x = mtcnn(x)\n",
    "x = resnet(x.unsqueeze(0))"
   ]
  },
  {
   "cell_type": "code",
   "execution_count": 26,
   "id": "ab0e7b2b-8213-45c7-9082-f57fd3fe0cc5",
   "metadata": {},
   "outputs": [],
   "source": [
    "import torch"
   ]
  },
  {
   "cell_type": "code",
   "execution_count": 31,
   "id": "682b8a25-ce3d-48a9-8bff-9d4d794285f5",
   "metadata": {},
   "outputs": [
    {
     "data": {
      "text/plain": [
       "tensor([[0.5788]], grad_fn=<PowBackward0>)"
      ]
     },
     "execution_count": 31,
     "metadata": {},
     "output_type": "execute_result"
    }
   ],
   "source": [
    "torch.cdist(x1,x)**2"
   ]
  },
  {
   "cell_type": "code",
   "execution_count": null,
   "id": "f7c616ee-c36b-41f3-9891-3ce43b31fce6",
   "metadata": {},
   "outputs": [],
   "source": []
  },
  {
   "cell_type": "code",
   "execution_count": null,
   "id": "132359b3-a971-459f-a012-f7926b779dd4",
   "metadata": {},
   "outputs": [],
   "source": []
  }
 ],
 "metadata": {
  "kernelspec": {
   "display_name": "Python 3",
   "language": "python",
   "name": "python3"
  },
  "language_info": {
   "codemirror_mode": {
    "name": "ipython",
    "version": 3
   },
   "file_extension": ".py",
   "mimetype": "text/x-python",
   "name": "python",
   "nbconvert_exporter": "python",
   "pygments_lexer": "ipython3",
   "version": "3.9.7"
  }
 },
 "nbformat": 4,
 "nbformat_minor": 5
}
